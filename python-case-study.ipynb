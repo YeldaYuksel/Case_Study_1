{
 "cells": [
  {
   "cell_type": "code",
   "execution_count": 1,
   "id": "638c10c7",
   "metadata": {
    "execution": {
     "iopub.execute_input": "2024-09-03T21:11:07.971798Z",
     "iopub.status.busy": "2024-09-03T21:11:07.971190Z",
     "iopub.status.idle": "2024-09-03T21:11:07.977508Z",
     "shell.execute_reply": "2024-09-03T21:11:07.976273Z"
    },
    "papermill": {
     "duration": 0.016381,
     "end_time": "2024-09-03T21:11:07.980447",
     "exception": false,
     "start_time": "2024-09-03T21:11:07.964066",
     "status": "completed"
    },
    "tags": []
   },
   "outputs": [],
   "source": [
    "#import os\n",
    "#print(os.getcwd()) ###shows current working directory"
   ]
  },
  {
   "cell_type": "code",
   "execution_count": 2,
   "id": "3d27d822",
   "metadata": {
    "execution": {
     "iopub.execute_input": "2024-09-03T21:11:07.992999Z",
     "iopub.status.busy": "2024-09-03T21:11:07.992147Z",
     "iopub.status.idle": "2024-09-03T21:11:07.997611Z",
     "shell.execute_reply": "2024-09-03T21:11:07.996253Z"
    },
    "papermill": {
     "duration": 0.014579,
     "end_time": "2024-09-03T21:11:08.000102",
     "exception": false,
     "start_time": "2024-09-03T21:11:07.985523",
     "status": "completed"
    },
    "tags": []
   },
   "outputs": [],
   "source": [
    "#import numpy as np\n",
    "#import seaborn as sns\n",
    "#import pandas as pd\n",
    "#import matplotlib.pyplot as plt\n",
    "#pd.set_option('display.max_rows', 50)\n",
    "#pd.set_option('display.max_columns', None)\n",
    "#pd.set_option('display.width', 1000)"
   ]
  },
  {
   "cell_type": "markdown",
   "id": "bab1443a",
   "metadata": {
    "papermill": {
     "duration": 0.004243,
     "end_time": "2024-09-03T21:11:08.009030",
     "exception": false,
     "start_time": "2024-09-03T21:11:08.004787",
     "status": "completed"
    },
    "tags": []
   },
   "source": [
    "**GÖREV 1**"
   ]
  },
  {
   "cell_type": "code",
   "execution_count": 3,
   "id": "b406308a",
   "metadata": {
    "execution": {
     "iopub.execute_input": "2024-09-03T21:11:08.019869Z",
     "iopub.status.busy": "2024-09-03T21:11:08.019417Z",
     "iopub.status.idle": "2024-09-03T21:11:08.027646Z",
     "shell.execute_reply": "2024-09-03T21:11:08.026227Z"
    },
    "papermill": {
     "duration": 0.016768,
     "end_time": "2024-09-03T21:11:08.030294",
     "exception": false,
     "start_time": "2024-09-03T21:11:08.013526",
     "status": "completed"
    },
    "tags": []
   },
   "outputs": [],
   "source": [
    "#########################################\n",
    "# Soru 1: persona.csv dosyasını okutunuz ve veri seti ile ilgili genel bilgileri gösteriniz\n",
    "#\n",
    "#########################################\n",
    "\n",
    "#df_persona = pd.read_csv('datasets/persona.csv')\n",
    "#df_persona.head()\n",
    "#df_persona.info()\n",
    "\n",
    "#########################################\n",
    "# Soru 2: Kaç unique SOURCE vardır? Frekansları nedir?\n",
    "#\n",
    "#########################################\n",
    "\n",
    "#df_persona[\"SOURCE\"].unique()\n",
    "\n",
    "#########################################\n",
    "# Soru 3:Kaç unique PRICE vardır?\n",
    "#\n",
    "#########################################\n",
    "\n",
    "#df_persona[\"PRICE\"].nunique()\n",
    "\n",
    "#########################################\n",
    "# Soru 4:Hangi PRICE'dan kaçar tane satış gerçekleşmiş?\n",
    "#\n",
    "#########################################\n",
    "\n",
    "#df_persona[\"PRICE\"].value_counts()\n",
    "\n",
    "#########################################\n",
    "# Soru 5:Hangi ülkeden kaçar tane satış olmuş?\n",
    "#\n",
    "#########################################\n",
    "\n",
    "#df_persona[\"COUNTRY\"].value_counts()\n",
    "\n",
    "#########################################\n",
    "# Soru 6:Ülkelere göre satışlardan toplam ne kadar kazanılmış?\n",
    "#\n",
    "#########################################\n",
    "\n",
    "#df_persona.groupby(\"COUNTRY\")[\"PRICE\"].sum()\n",
    "\n",
    "#########################################\n",
    "# Soru 7:SOURCE türlerine göre satış sayıları nedir?\n",
    "#\n",
    "#########################################\n",
    "\n",
    "#df_persona[\"SOURCE\"].value_counts()\n",
    "\n",
    "#########################################\n",
    "# Soru 8:Ülkelere göre PRICE ortalamaları nedir?\n",
    "#\n",
    "#########################################\n",
    "\n",
    "#df_persona.groupby(\"COUNTRY\")[\"PRICE\"].mean()\n",
    "\n",
    "#########################################\n",
    "# Soru 9:SOURCE'lara göre PRICE ortalamaları nedir?\n",
    "#\n",
    "#########################################\n",
    "\n",
    "#df_persona.groupby(\"SOURCE\")[\"PRICE\"].mean()\n",
    "\n",
    "#########################################\n",
    "# Soru 10: COUNTRY-SOURCE kırılımında PRICE ortalamaları nedir?\n",
    "#\n",
    "#########################################\n",
    "\n",
    "#df_persona.groupby([\"COUNTRY\", \"SOURCE\"]).agg({\"PRICE\": \"mean\"})\n"
   ]
  },
  {
   "cell_type": "code",
   "execution_count": 4,
   "id": "99558c1f",
   "metadata": {
    "execution": {
     "iopub.execute_input": "2024-09-03T21:11:08.041703Z",
     "iopub.status.busy": "2024-09-03T21:11:08.041203Z",
     "iopub.status.idle": "2024-09-03T21:11:08.046870Z",
     "shell.execute_reply": "2024-09-03T21:11:08.045612Z"
    },
    "papermill": {
     "duration": 0.014333,
     "end_time": "2024-09-03T21:11:08.049437",
     "exception": false,
     "start_time": "2024-09-03T21:11:08.035104",
     "status": "completed"
    },
    "tags": []
   },
   "outputs": [],
   "source": [
    "#########################################\n",
    "# Görev 2: COUNTRY, SOURCE, SEX, AGE kırılımında ortalama kazançlar nedir?\n",
    "#\n",
    "#########################################\n",
    "\n",
    "\n",
    "#df_persona.groupby([\"COUNTRY\", \"SOURCE\", \"SEX\", \"AGE\"])[\"PRICE\"].mean()\n"
   ]
  },
  {
   "cell_type": "code",
   "execution_count": 5,
   "id": "2c936529",
   "metadata": {
    "execution": {
     "iopub.execute_input": "2024-09-03T21:11:08.060820Z",
     "iopub.status.busy": "2024-09-03T21:11:08.060403Z",
     "iopub.status.idle": "2024-09-03T21:11:08.066146Z",
     "shell.execute_reply": "2024-09-03T21:11:08.064705Z"
    },
    "papermill": {
     "duration": 0.014688,
     "end_time": "2024-09-03T21:11:08.068923",
     "exception": false,
     "start_time": "2024-09-03T21:11:08.054235",
     "status": "completed"
    },
    "tags": []
   },
   "outputs": [],
   "source": [
    "#########################################\n",
    "# Görev 3 : Çıktıyı PRICE’agöre sıralayınız\n",
    "#\n",
    "#########################################\n",
    "# Önceki sorudaki çıktıyı daha iyi görebilmek için sort_values metodunu azalan olacak şekilde PRICE’agöre uygulayınız.\n",
    "\n",
    "# Çıktıyı agg_df olarak kaydediniz.\n",
    "\n",
    "#df_persona.groupby([\"COUNTRY\", \"SOURCE\", \"SEX\", \"AGE\"])[\"PRICE\"].mean().sort_values(ascending=False)"
   ]
  },
  {
   "cell_type": "code",
   "execution_count": 6,
   "id": "6b6d7d3b",
   "metadata": {
    "execution": {
     "iopub.execute_input": "2024-09-03T21:11:08.080366Z",
     "iopub.status.busy": "2024-09-03T21:11:08.079920Z",
     "iopub.status.idle": "2024-09-03T21:11:08.086033Z",
     "shell.execute_reply": "2024-09-03T21:11:08.084821Z"
    },
    "papermill": {
     "duration": 0.014993,
     "end_time": "2024-09-03T21:11:08.088740",
     "exception": false,
     "start_time": "2024-09-03T21:11:08.073747",
     "status": "completed"
    },
    "tags": []
   },
   "outputs": [],
   "source": [
    "#########################################\n",
    "# Görev 4 : Indekste yer alan isimleri değişken ismine çeviriniz\n",
    "#\n",
    "#########################################\n",
    "\n",
    "#agg_df = df_persona.groupby([\"COUNTRY\", \"SOURCE\", \"SEX\", \"AGE\"])[\"PRICE\"].mean().sort_values(ascending=False).reset_index()\n"
   ]
  },
  {
   "cell_type": "code",
   "execution_count": 7,
   "id": "ff7483cc",
   "metadata": {
    "execution": {
     "iopub.execute_input": "2024-09-03T21:11:08.100811Z",
     "iopub.status.busy": "2024-09-03T21:11:08.099522Z",
     "iopub.status.idle": "2024-09-03T21:11:08.105638Z",
     "shell.execute_reply": "2024-09-03T21:11:08.104377Z"
    },
    "papermill": {
     "duration": 0.015337,
     "end_time": "2024-09-03T21:11:08.108835",
     "exception": false,
     "start_time": "2024-09-03T21:11:08.093498",
     "status": "completed"
    },
    "tags": []
   },
   "outputs": [],
   "source": [
    "#########################################\n",
    "# Görev 5 : Age değişkenini kategorik değişkene çeviriniz ve agg_df’e ekleyiniz\n",
    "#\n",
    "#########################################\n",
    "\n",
    "#### AGE değişkeninin nerelerden bölüneceğini belirtelim:\n",
    "\n",
    "#bins = [0, 18, 23, 30, 40, agg_df[\"AGE\"].max()]\n",
    "\n",
    "\n",
    "#### Bölünen noktalara karşılık isimlendirmelerin ne olacağını ifade edelim:\n",
    "\n",
    "#mylabels = ['0_18', '19_23', '24_30', '31_40', '41_' + str(agg_df[\"AGE\"].max())]\n",
    "\n",
    "\n",
    "#### age'i bölelim:\n",
    "\n",
    "#agg_df[\"AGE_CAT\"] = pd.cut(agg_df[\"AGE\"], bins, labels=mylabels)\n",
    "#agg_df.head()"
   ]
  },
  {
   "cell_type": "code",
   "execution_count": 8,
   "id": "147b6e35",
   "metadata": {
    "execution": {
     "iopub.execute_input": "2024-09-03T21:11:08.120354Z",
     "iopub.status.busy": "2024-09-03T21:11:08.119854Z",
     "iopub.status.idle": "2024-09-03T21:11:08.125885Z",
     "shell.execute_reply": "2024-09-03T21:11:08.124580Z"
    },
    "papermill": {
     "duration": 0.015208,
     "end_time": "2024-09-03T21:11:08.128734",
     "exception": false,
     "start_time": "2024-09-03T21:11:08.113526",
     "status": "completed"
    },
    "tags": []
   },
   "outputs": [],
   "source": [
    "#########################################\n",
    "# Görev 6 : Yeni seviye tabanlı müşterileri (persona) tanımlayınız\n",
    "#\n",
    "#########################################\n",
    "\n",
    "#### YÖNTEM 1\n",
    "\n",
    "#agg_df['customers_level_based'] = agg_df[['COUNTRY', 'SOURCE', 'SEX', 'AGE_CAT']].agg(lambda x: '_'.join(x).upper(), axis=1)\n",
    "\n",
    "\n",
    "\n",
    "#### YÖNTEM 2\n",
    "\n",
    "#agg_df[\"customers_level_based\"] = ['_'.join(i).upper() for i in agg_df.drop([\"AGE\", \"PRICE\"], axis=1).values]\n",
    "\n",
    "##### -age ve price dışındakilere _ uygula diyoruz ###"
   ]
  },
  {
   "cell_type": "code",
   "execution_count": 9,
   "id": "955f6dc2",
   "metadata": {
    "execution": {
     "iopub.execute_input": "2024-09-03T21:11:08.140544Z",
     "iopub.status.busy": "2024-09-03T21:11:08.140028Z",
     "iopub.status.idle": "2024-09-03T21:11:08.145761Z",
     "shell.execute_reply": "2024-09-03T21:11:08.144375Z"
    },
    "papermill": {
     "duration": 0.015206,
     "end_time": "2024-09-03T21:11:08.148725",
     "exception": false,
     "start_time": "2024-09-03T21:11:08.133519",
     "status": "completed"
    },
    "tags": []
   },
   "outputs": [],
   "source": [
    "#########################################\n",
    "# Görev 7 : Yeni müşterileri (personaları) segmentlere ayırınız\n",
    "#\n",
    "#########################################\n",
    "\n",
    "#agg_df[\"SEGMENT\"] = pd.qcut(agg_df[\"PRICE\"], 4, labels=[\"D\", \"C\", \"B\", \"A\"])\n",
    "#agg_df.head(30)\n",
    "#agg_df.groupby(\"SEGMENT\").agg({\"PRICE\": \"mean\"})"
   ]
  },
  {
   "cell_type": "code",
   "execution_count": 10,
   "id": "050cc6ad",
   "metadata": {
    "execution": {
     "iopub.execute_input": "2024-09-03T21:11:08.161273Z",
     "iopub.status.busy": "2024-09-03T21:11:08.160860Z",
     "iopub.status.idle": "2024-09-03T21:11:08.166756Z",
     "shell.execute_reply": "2024-09-03T21:11:08.165332Z"
    },
    "papermill": {
     "duration": 0.015251,
     "end_time": "2024-09-03T21:11:08.169929",
     "exception": false,
     "start_time": "2024-09-03T21:11:08.154678",
     "status": "completed"
    },
    "tags": []
   },
   "outputs": [],
   "source": [
    "#############################################\n",
    "# GÖREV 8: Yeni gelen müşterileri sınıflandırınız ne kadar gelir getirebileceğini tahmin ediniz.\n",
    "#############################################\n",
    "\n",
    "#### 33 yaşında ANDROID kullanan bir Türk kadını hangi segmente aittir ve ortalama ne kadar gelir kazandırması beklenir?\n",
    "\n",
    "#new_user = \"TUR_ANDROID_FEMALE_31_40\"\n",
    "#agg_df[agg_df[\"customers_level_based\"] == new_user]\n",
    "\n",
    "#### 35 yaşında IOS kullanan bir Fransız kadını hangi segmente ve ortalama ne kadar gelir kazandırması beklenir?\n",
    "\n",
    "#new_user = \"FRA_IOS_FEMALE_31_40\"\n",
    "#agg_df[agg_df[\"customers_level_based\"] == new_user]"
   ]
  }
 ],
 "metadata": {
  "kaggle": {
   "accelerator": "none",
   "dataSources": [],
   "dockerImageVersionId": 30761,
   "isGpuEnabled": false,
   "isInternetEnabled": false,
   "language": "python",
   "sourceType": "notebook"
  },
  "kernelspec": {
   "display_name": "Python 3",
   "language": "python",
   "name": "python3"
  },
  "language_info": {
   "codemirror_mode": {
    "name": "ipython",
    "version": 3
   },
   "file_extension": ".py",
   "mimetype": "text/x-python",
   "name": "python",
   "nbconvert_exporter": "python",
   "pygments_lexer": "ipython3",
   "version": "3.10.14"
  },
  "papermill": {
   "default_parameters": {},
   "duration": 3.900703,
   "end_time": "2024-09-03T21:11:08.596296",
   "environment_variables": {},
   "exception": null,
   "input_path": "__notebook__.ipynb",
   "output_path": "__notebook__.ipynb",
   "parameters": {},
   "start_time": "2024-09-03T21:11:04.695593",
   "version": "2.6.0"
  }
 },
 "nbformat": 4,
 "nbformat_minor": 5
}
